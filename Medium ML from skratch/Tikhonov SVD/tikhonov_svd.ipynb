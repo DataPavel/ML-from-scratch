{
 "cells": [
  {
   "cell_type": "markdown",
   "id": "2167eba3-db15-4a5b-9083-b6621c7d03c5",
   "metadata": {},
   "source": [
    "## Singular Value Decomposition"
   ]
  },
  {
   "cell_type": "markdown",
   "id": "e9fc0efc-9b2c-477e-bee1-f564175edc72",
   "metadata": {},
   "source": [
    "$$X=U\\Sigma V^T$$  \n",
    "where:  \n",
    "$X \\in M_{mxn}$  \n",
    "$U \\in Q_{mxm}$  \n",
    "$\\Sigma \\in D_{mxn}$  \n",
    "$V^T \\in Q_{nxn}$"
   ]
  },
  {
   "cell_type": "markdown",
   "id": "52b16a60-4b17-420e-833c-ebfdc74341ca",
   "metadata": {},
   "source": [
    "### Properties of matrices with orthonormal vecrors"
   ]
  },
  {
   "cell_type": "markdown",
   "id": "d8a20115-8485-4165-8ef0-d58fb43e49ad",
   "metadata": {},
   "source": [
    "$$U^T=U^{-1}$$  \n",
    "$$UU^T=I$$  \n",
    "$$U^TU=I$$  \n",
    "$$V^T=V^{-1}$$  \n",
    "$$VV^T=I$$  \n",
    "$$V^TV=I$$"
   ]
  },
  {
   "cell_type": "markdown",
   "id": "05f50df7-6b9e-4472-9af5-0e0624c369dc",
   "metadata": {},
   "source": [
    "### Properties of diagonal matrices"
   ]
  },
  {
   "cell_type": "markdown",
   "id": "cb1a186c-f032-4575-91b6-9715d62c5bd5",
   "metadata": {},
   "source": [
    "$$\\Sigma=\\Sigma^T$$  \n",
    "$$\\sigma_{ij}^{-1}=\n",
    "\\left\\{ \n",
    "\\begin{array}{ c l }\n",
    "0 \\quad \\forall i\\neq j\\\\\n",
    "\\frac{1}{\\sigma_{ij}}\\quad \\forall i=j\n",
    "\\end{array}\n",
    "\\right.$$"
   ]
  },
  {
   "cell_type": "markdown",
   "id": "43a048bb-7e37-4d98-bef7-b0f627cf113f",
   "metadata": {},
   "source": [
    "### Basic least squares"
   ]
  },
  {
   "cell_type": "markdown",
   "id": "e31a46ee-e69a-48c3-a427-d0223355c947",
   "metadata": {},
   "source": [
    "$$X^TXw=X^Ty$$  \n",
    "where:  \n",
    "$X$ is a design matrix  \n",
    "$w$ is a vector with coefficients (unknowns)  \n",
    "$y$ is a target vector"
   ]
  },
  {
   "cell_type": "markdown",
   "id": "aae7cb3e-3db9-4b73-b0a4-d5f44626b523",
   "metadata": {},
   "source": [
    "$$(U\\Sigma V^T)^TU\\Sigma V^Tw=(U\\Sigma V^T)^Ty$$  \n",
    "$$V\\Sigma^TU^TU\\Sigma V^Tw=V\\Sigma^TU^Ty$$"
   ]
  },
  {
   "cell_type": "markdown",
   "id": "f8232728-5a90-4658-937c-646243a67cb7",
   "metadata": {},
   "source": [
    "$$V\\Sigma^T\\Sigma V^Tw=V\\Sigma^TU^Ty$$"
   ]
  },
  {
   "cell_type": "markdown",
   "id": "ab67aec7-697c-44f1-b746-cd0ac79a2bcb",
   "metadata": {},
   "source": [
    "$$\\Sigma V^Tw=U^Ty$$"
   ]
  },
  {
   "cell_type": "markdown",
   "id": "635f8039-9d6b-4dfd-9561-02ddc862bdae",
   "metadata": {},
   "source": [
    "$$V^T=V^{-1}$$  \n",
    "$$(V^T)^{-1}=(V^T)^T=V$$"
   ]
  },
  {
   "cell_type": "markdown",
   "id": "b4a53fc8-bc11-49dd-a060-627ec40e2a75",
   "metadata": {},
   "source": [
    "$$w=V\\Sigma^{-1} U^Ty$$"
   ]
  },
  {
   "cell_type": "code",
   "execution_count": 1,
   "id": "5050ffa4-2f10-4a83-abb6-56405fdeebc5",
   "metadata": {},
   "outputs": [
    {
     "name": "stdout",
     "output_type": "stream",
     "text": [
      "Resulting coefficients\n",
      "----------------------\n",
      "[ -10.01219782 -239.81908937  519.83978679  324.39042769 -792.18416163\n",
      "  476.74583782  101.04457032  177.06417623  751.27932109   67.62538639]\n"
     ]
    }
   ],
   "source": [
    "import numpy as np\n",
    "from sklearn import datasets\n",
    "# Import the diabetes dataset\n",
    "X, y = datasets.load_diabetes(return_X_y=True)\n",
    "# Decompose the design matrix\n",
    "U, s, Vt = np.linalg.svd(X, full_matrices=False)\n",
    "# Create Sigma matrix from 1D array\n",
    "sigma = np.diag(s)\n",
    "# Calculate sigma inverse\n",
    "sigma_inv = np.diag(1/s)\n",
    "# Dot product of V and sigma inverse\n",
    "Vsigma_inv = np.dot(Vt.T, sigma_inv)\n",
    "# Dot product of U transpose and target vector\n",
    "UTy = np.dot(U.T, y)\n",
    "# Calculate coefficients\n",
    "w = np.dot(Vsigma_inv, UTy)\n",
    "print('Resulting coefficients')\n",
    "print('----------------------')\n",
    "print(w)"
   ]
  },
  {
   "cell_type": "code",
   "execution_count": 2,
   "id": "24e6fec3-2c1d-4175-a598-1f0b0b29facb",
   "metadata": {},
   "outputs": [
    {
     "name": "stdout",
     "output_type": "stream",
     "text": [
      "Resulting coefficients from LinearRegression class\n",
      "----------------------\n",
      "[ -10.01219782 -239.81908937  519.83978679  324.39042769 -792.18416163\n",
      "  476.74583782  101.04457032  177.06417623  751.27932109   67.62538639]\n"
     ]
    }
   ],
   "source": [
    "from sklearn.linear_model import LinearRegression\n",
    "from sklearn import datasets\n",
    "# Import the diabetes dataset\n",
    "X, y = datasets.load_diabetes(return_X_y=True)\n",
    "# Instantiate an instance of LinearRegression class\n",
    "reg = LinearRegression(fit_intercept=False)\n",
    "# Fit the regressor\n",
    "reg.fit(X, y)\n",
    "print('Resulting coefficients from LinearRegression class')\n",
    "print('----------------------')\n",
    "print(reg.coef_)"
   ]
  },
  {
   "cell_type": "markdown",
   "id": "155da1f6-d816-4bb7-85d8-2f3f275c0eed",
   "metadata": {},
   "source": [
    "## Why linear regression fails"
   ]
  },
  {
   "cell_type": "markdown",
   "id": "6f80c04f-c8f8-4dd5-b2f3-63b11e3d2462",
   "metadata": {},
   "source": [
    "$$\n",
    "\\underset{w}{min}\\Vert Xw-y\\Vert_2^2+ \\alpha \\Vert w\\Vert^2_2\n",
    "$$  \n",
    "where:  \n",
    "$X \\in \\mathbb{R}^{mxn}$,  \n",
    "$w \\in \\mathbb{R}^n$,  \n",
    "$y \\in \\mathbb{R}^m$  \n",
    "$\\alpha \\in \\mathbb{R}_+$ "
   ]
  },
  {
   "cell_type": "markdown",
   "id": "3dbe0a8c-a51e-44ad-93c5-3d6623a78d62",
   "metadata": {},
   "source": [
    "# SVD with a penalty term"
   ]
  },
  {
   "cell_type": "markdown",
   "id": "7342a619-f32f-44de-b03d-318a18227adb",
   "metadata": {},
   "source": [
    "$$w=V(\\Sigma(\\Sigma^{-1}\\Sigma^{-1}+\\alpha)) U^Ty$$"
   ]
  },
  {
   "cell_type": "markdown",
   "id": "9af961bc-93f3-41bd-80fb-b3ca611e3a48",
   "metadata": {},
   "source": [
    "$$\\Sigma\\Sigma^{-1}\\Sigma^{-1}=I\\Sigma^{-1}=\\Sigma^{-1}$$"
   ]
  },
  {
   "cell_type": "markdown",
   "id": "40205394-32f8-40ca-bc00-fa19d9572be5",
   "metadata": {},
   "source": [
    "$$\\Sigma(\\Sigma^{-1}\\Sigma^{-1}+\\alpha)$$"
   ]
  },
  {
   "cell_type": "code",
   "execution_count": 196,
   "id": "48c71d16-29ae-4685-a21d-9616e93a57b6",
   "metadata": {},
   "outputs": [],
   "source": [
    "import numpy as np\n",
    "\n",
    "class TikhonovRegularization:\n",
    "    \n",
    "    def __init__(self, fit_intercept=True, alpha=1):\n",
    "        self.fit_intercept = fit_intercept\n",
    "        self.alpha = alpha\n",
    "    \n",
    "    def fit(self, X, y):\n",
    "        \n",
    "        X = X.astype(float)\n",
    "        y = y.astype(float)\n",
    "        \n",
    "        if self.fit_intercept == True:\n",
    "\n",
    "            X_average = np.mean(X, axis=0)\n",
    "            X = X - X_average\n",
    "            y_average = np.mean(y)\n",
    "            y = y - y_average\n",
    "            \n",
    "            # Decompose the design matrix\n",
    "            U, s, Vt = np.linalg.svd(X, full_matrices=False)\n",
    "            # Create Sigma matrix from 1D array\n",
    "            sigma = np.diag(s)\n",
    "            # Create a Sigma squared matrix\n",
    "            sigma_sq = np.dot(sigma, sigma)\n",
    "            # Apply penalty to the singular values\n",
    "            sigma_a = sigma_sq + np.identity(sigma.shape[0]) * self.alpha\n",
    "            # Calculate inverse\n",
    "            sigma_a_inv = np.diag(1/np.diag(sigma_a))\n",
    "            sigma_penilized = np.dot(sigma, sigma_a_inv)\n",
    "            # Dot product of V and sigma inverse\n",
    "            Vsigma_inv_a = np.dot(Vt.T, sigma_penilized)\n",
    "            # Dot product of U transpose and target vector\n",
    "            UTy = np.dot(U.T, y)\n",
    "            # Calculate coefficients\n",
    "            self.coef = np.dot(Vsigma_inv_a, UTy)\n",
    "            self.intercept = y_average - np.dot(X_average, self.coef.T)\n",
    "        else:\n",
    "            # Decompose the design matrix\n",
    "            U, s, Vt = np.linalg.svd(X, full_matrices=False)\n",
    "            # Create Sigma matrix from 1D array\n",
    "            sigma = np.diag(s)\n",
    "            # Create a Sigma squared matrix\n",
    "            sigma_sq = np.dot(sigma, sigma)\n",
    "            # Apply penalty to the singular values\n",
    "            sigma_a = sigma_sq + np.identity(sigma.shape[0]) * self.alpha\n",
    "            # Calculate inverse\n",
    "            sigma_a_inv = np.diag(1/np.diag(sigma_a))\n",
    "            sigma_penilized = np.dot(sigma, sigma_a_inv)\n",
    "            # Dot product of V and sigma inverse\n",
    "            Vsigma_inv_a = np.dot(Vt.T, sigma_penilized)\n",
    "            # Dot product of U transpose and target vector\n",
    "            UTy = np.dot(U.T, y)\n",
    "            # Calculate coefficients\n",
    "            self.coef = np.dot(Vsigma_inv_a, UTy)\n",
    "            self.intercept = 0\n",
    "         \n",
    "        return self\n",
    "    \n",
    "    def predict(self, X):\n",
    "        \n",
    "        y_pred = np.dot(X, self.coef.T) + self.intercept    \n",
    "        return y_pred\n",
    "    \n",
    "    def score(self, X, y):\n",
    "        \n",
    "        y_pred = self.predict(X)\n",
    "        numerator = ((y - y_pred)**2).sum()\n",
    "        denominator = ((y - np.mean(y))**2).sum()\n",
    "        score = 1 - (numerator/denominator)\n",
    "        return score"
   ]
  },
  {
   "cell_type": "code",
   "execution_count": 199,
   "id": "d1cf0210-80cd-4dd4-aa14-e9101d433b72",
   "metadata": {},
   "outputs": [
    {
     "name": "stdout",
     "output_type": "stream",
     "text": [
      "Coefficient of determination\n",
      "Training set\n",
      "--------------------------\n",
      "0.5065355183228828\n",
      "__________________________\n",
      "Coefficient of determination\n",
      "Testing set\n",
      "--------------------------\n",
      "0.5251192874468369\n"
     ]
    }
   ],
   "source": [
    "from sklearn import datasets\n",
    "from sklearn.model_selection import train_test_split\n",
    "X, y = datasets.load_diabetes(return_X_y=True)\n",
    "X_train, X_test, y_train, y_test = train_test_split(X, y, test_size=0.2, random_state=55)\n",
    "reg = TikhonovRegularization(fit_intercept=True, alpha=0.11)\n",
    "reg.fit(X_train,y_train)\n",
    "r2 = reg.score(X_train, y_train)\n",
    "r2_test = reg.score(X_test, y_test)\n",
    "print('Coefficient of determination\\nTraining set')\n",
    "print('--------------------------')\n",
    "print(r2)\n",
    "print('__________________________')\n",
    "print('Coefficient of determination\\nTesting set')\n",
    "print('--------------------------')\n",
    "print(r2_test)"
   ]
  },
  {
   "cell_type": "code",
   "execution_count": 209,
   "id": "cc90652a-74c6-485e-869c-ef27b054f560",
   "metadata": {},
   "outputs": [
    {
     "data": {
      "text/plain": [
       "True"
      ]
     },
     "execution_count": 209,
     "metadata": {},
     "output_type": "execute_result"
    }
   ],
   "source": [
    "from sklearn.linear_model import Ridge\n",
    "\n",
    "np.allclose(\n",
    "    TikhonovRegularization(fit_intercept=True, alpha=0.11).fit(X_train,y_train).coef,\n",
    "    Ridge(fit_intercept=True, alpha=0.11, solver='svd').fit(X_train,y_train).coef_\n",
    ")"
   ]
  },
  {
   "cell_type": "code",
   "execution_count": 323,
   "id": "66756548-b8b7-4ac9-b4dd-9ed5ed310a04",
   "metadata": {},
   "outputs": [],
   "source": [
    "alphas = np.arange(0,40,0.01)\n",
    "coefs = list()\n",
    "for i in alphas:\n",
    "    coefs.append(TikhonovRegularization(fit_intercept=True, alpha=i).fit(X_train,y_train).coef)\n",
    "    "
   ]
  },
  {
   "cell_type": "code",
   "execution_count": 324,
   "id": "8eb7409e-51d1-4216-b7c1-c3c543d08e64",
   "metadata": {},
   "outputs": [],
   "source": [
    "import matplotlib.pyplot as plt"
   ]
  },
  {
   "cell_type": "code",
   "execution_count": 325,
   "id": "3203d4b2-14d1-4d1a-8cec-5a9600d1d266",
   "metadata": {},
   "outputs": [
    {
     "data": {
      "image/png": "[encoded data removed]",
      "text/plain": [
       "<Figure size 640x480 with 1 Axes>"
      ]
     },
     "metadata": {},
     "output_type": "display_data"
    }
   ],
   "source": [
    "for coef, alpha in zip(coefs, alphas):\n",
    "    plt.bar(x = alpha,height=coef, width=0.1);\n",
    "plt.xlabel('alphas')\n",
    "plt.ylabel('coef_range')\n",
    "plt.title('Shrinkage of coefficients');"
   ]
  },
  {
   "cell_type": "code",
   "execution_count": null,
   "id": "cb3f73e2-9382-4c63-a8c9-eb6aa543ff47",
   "metadata": {},
   "outputs": [],
   "source": []
  }
 ],
 "metadata": {
  "kernelspec": {
   "display_name": "Python 3 (ipykernel)",
   "language": "python",
   "name": "python3"
  },
  "language_info": {
   "codemirror_mode": {
    "name": "ipython",
    "version": 3
   },
   "file_extension": ".py",
   "mimetype": "text/x-python",
   "name": "python",
   "nbconvert_exporter": "python",
   "pygments_lexer": "ipython3",
   "version": "3.9.13"
  }
 },
 "nbformat": 4,
 "nbformat_minor": 5
}
