{
 "cells": [
  {
   "cell_type": "code",
   "execution_count": 61,
   "id": "d27fcb58-bb01-4909-827a-2fe5b0dd6bd8",
   "metadata": {},
   "outputs": [],
   "source": [
    "import numpy as np\n",
    "\n",
    "import seaborn as sns\n",
    "import matplotlib.pyplot as plt\n",
    "%matplotlib inline"
   ]
  },
  {
   "cell_type": "markdown",
   "id": "058f7dbb-fdb2-40e8-b230-0a9c550172c7",
   "metadata": {},
   "source": [
    "### Linear Regression"
   ]
  },
  {
   "cell_type": "markdown",
   "id": "6fd0a201-40dc-439e-82ea-d8e4dd5222b5",
   "metadata": {},
   "source": [
    "### Objective function"
   ]
  },
  {
   "cell_type": "markdown",
   "id": "cb212721-3e6b-46cb-8d8b-c73b4d205a95",
   "metadata": {},
   "source": [
    "$$\n",
    "\\underset{w}{min}\\Vert Xw-y\\Vert_2^2\n",
    "$$  \n",
    "where:  \n",
    "$X \\in \\mathbb{R}^{mxn}$,  \n",
    "$w \\in \\mathbb{R}^n$,  \n",
    "$y \\in \\mathbb{R}^m$"
   ]
  },
  {
   "cell_type": "markdown",
   "id": "571c7aee-2b4d-4280-9517-6afefee14c17",
   "metadata": {},
   "source": [
    "### Simple convex function"
   ]
  },
  {
   "cell_type": "markdown",
   "id": "01e23860-30f0-4ec2-b259-562b5dee99b0",
   "metadata": {},
   "source": [
    "$$ \\mathcal{f}(x)=x^2$$\n",
    "where:  \n",
    "$x,\\mathcal{f}(x) \\in \\mathbb{R}$"
   ]
  },
  {
   "cell_type": "code",
   "execution_count": 62,
   "id": "948017db-bd6d-48e0-8ca5-a97919f8e54d",
   "metadata": {},
   "outputs": [],
   "source": [
    "x = np.linspace(-100, 100, num=201)"
   ]
  },
  {
   "cell_type": "code",
   "execution_count": 63,
   "id": "d3b18512-d126-4d31-bb32-e8b11cfb40ad",
   "metadata": {},
   "outputs": [],
   "source": [
    "f_x = [i**2 for i in x]"
   ]
  },
  {
   "cell_type": "code",
   "execution_count": 64,
   "id": "d1b5774d-fba2-43cf-bf0d-b81d6743fa89",
   "metadata": {},
   "outputs": [],
   "source": [
    "f_x = x ** 2"
   ]
  },
  {
   "cell_type": "code",
   "execution_count": 65,
   "id": "9fdc172d-5d8d-4a2a-9e6e-685804909c37",
   "metadata": {},
   "outputs": [
    {
     "data": {
      "image/png": "[encoded data removed]",
      "text/plain": [
       "<Figure size 432x288 with 1 Axes>"
      ]
     },
     "metadata": {
      "needs_background": "light"
     },
     "output_type": "display_data"
    }
   ],
   "source": [
    "plt.plot(x, f_x, label=r'$\\mathcal{f}(x)=x^2$');\n",
    "plt.plot(x[50:150], np.zeros(len(x[50:150])), label='tangent line');\n",
    "plt.scatter(0, 0, label='global minimum', color='green');\n",
    "\n",
    "plt.legend(loc='upper right')\n",
    "plt.title('Convex function with the global minimum');"
   ]
  },
  {
   "cell_type": "markdown",
   "id": "1d3fac59-ab6c-4b6b-832b-3f24df234446",
   "metadata": {},
   "source": [
    "### Loss function as a composition of functions"
   ]
  },
  {
   "cell_type": "markdown",
   "id": "1ef622b5-d33a-4eac-8c02-1f9722566b62",
   "metadata": {},
   "source": [
    "$$L(x) \\circ x(w)= \\Vert Xw-y\\Vert_2^2$$ \n",
    "where:  \n",
    "$L: \\mathbb{R}^m \\to \\mathbb{R}$  \n",
    "$L(x) = \\Vert x \\Vert_2^2$  \n",
    "and  \n",
    "$x: \\mathbb{R}^n \\to \\mathbb{R}^m$  \n",
    "$x(w) = Xw-y$"
   ]
  },
  {
   "cell_type": "markdown",
   "id": "3de7deef-0d2f-4d04-a0f0-68fa11bea0b0",
   "metadata": {},
   "source": [
    "$$\\frac{\\partial L}{\\partial w} = \\frac{\\partial L(x)}{\\partial x}\\frac{\\partial x(w)}{\\partial w}$$"
   ]
  },
  {
   "cell_type": "markdown",
   "id": "294648a2-d98e-4a4a-bcf0-c2f7acc5c4e3",
   "metadata": {},
   "source": [
    "### Euclidean distance"
   ]
  },
  {
   "cell_type": "markdown",
   "id": "d866db08-f320-4376-b72e-0d8e01507125",
   "metadata": {},
   "source": [
    "$ \\Vert x\\Vert_2^2 = \n",
    "\\left(\n",
    "\\sqrt{\\sum \\limits_{j=1}^{m}\\vert x_j\\vert^2}\n",
    "\\right)^2\n",
    "=\\sum \\limits_{j=1}^{m}\\vert x_j\\vert^2 = x_1^2 + x_2^2 + \\dots + x_m^2\n",
    "$"
   ]
  },
  {
   "cell_type": "markdown",
   "id": "b8b195fd-21e0-4b0f-9d85-e899537f22f6",
   "metadata": {},
   "source": [
    "### Gradient of Euclidean distance"
   ]
  },
  {
   "cell_type": "markdown",
   "id": "c68a2538-cb19-40d8-988e-a7f4effa5db8",
   "metadata": {},
   "source": [
    "$$\n",
    "\\frac{d L}{d x}=\n",
    "\\left[\n",
    "\\begin{array}{cccc}\n",
    "2x_1&2x_2&\\dots&2x_m\n",
    "\\end{array}\n",
    "\\right]= \n",
    "2x, \\in \\mathbb{R}^{mx1}\n",
    "$$"
   ]
  },
  {
   "cell_type": "markdown",
   "id": "3c9e8809-95ee-49b3-b0ad-74239839944b",
   "metadata": {},
   "source": [
    "### Difference between predicted target and observed target"
   ]
  },
  {
   "cell_type": "markdown",
   "id": "bc6f8a2d-2fe4-469c-b35b-bb081b6bde20",
   "metadata": {},
   "source": [
    "$$x(w) = Xw-y$$"
   ]
  },
  {
   "cell_type": "markdown",
   "id": "5a183292-79e7-4b37-9348-86dde12418a7",
   "metadata": {},
   "source": [
    "### Partial derivative of the above"
   ]
  },
  {
   "cell_type": "markdown",
   "id": "9246cc23-ec30-4a1e-ba59-7716433c3aae",
   "metadata": {},
   "source": [
    "$$\\frac{\\partial x}{\\partial w} = X - 0 = X, \\in \\mathbb{R}^{mxn}$$"
   ]
  },
  {
   "cell_type": "markdown",
   "id": "2696d1b5-0804-4f7d-a8cb-06ae79696310",
   "metadata": {},
   "source": [
    "### Chain rule"
   ]
  },
  {
   "cell_type": "markdown",
   "id": "bd3317ee-d0b1-4242-814a-f4362ec29e53",
   "metadata": {},
   "source": [
    "$$\\frac{\\partial L}{\\partial w} = \\frac{\\partial L}{\\partial x}\\frac{\\partial x}{\\partial w}=2xX, x \\in \\mathbb{R}^{nx1}, X \\in \\mathbb{R}^{mxn}$$"
   ]
  },
  {
   "cell_type": "markdown",
   "id": "022f5205-9bc2-4adf-a15a-89c3593913fa",
   "metadata": {},
   "source": [
    "$$\\frac{\\partial L}{\\partial w} = 2x^T X = 2(X^Tw^T-y^T)X$$"
   ]
  },
  {
   "cell_type": "markdown",
   "id": "a358120c-1d66-4ee2-8543-fa1de9c5813a",
   "metadata": {},
   "source": [
    "### Global minimum"
   ]
  },
  {
   "cell_type": "markdown",
   "id": "43e4c3c5-20f8-4784-9378-1b00ff05fd8c",
   "metadata": {},
   "source": [
    "$2(X^Tw^T-y^T)X=0$  \n"
   ]
  },
  {
   "cell_type": "markdown",
   "id": "907a4770-e803-4255-8938-4717fec451c6",
   "metadata": {},
   "source": [
    "1. $\\quad 2X^TXw^T - 2y^TX=0$  \n",
    "2. $\\quad 2X^TXw^T=2y^TX$  \n",
    "3. $\\quad X^TXw^T=y^TX$  \n",
    "4. $\\quad w^T = y^TX (X^TX)^{-1} $"
   ]
  },
  {
   "cell_type": "markdown",
   "id": "a32ba5c3-a780-4a3c-9222-7ee2ebbfbf1f",
   "metadata": {},
   "source": [
    "### Intercept"
   ]
  },
  {
   "cell_type": "markdown",
   "id": "7e6828f6-d977-4a2a-a41e-f57475bf045f",
   "metadata": {},
   "source": [
    "$$Intercept = y_{\\mu} - X_{\\mu}w^T$$\n",
    "where:  \n",
    "$y_{\\mu}$ - mean value of a target vector  \n",
    "$X_{\\mu}$ - vector of mean values for each column vector in the design matrix  \n",
    "$w^T$ - coefficients"
   ]
  },
  {
   "cell_type": "markdown",
   "id": "d9e8c063-07a4-41df-8ae8-0e994b232f0a",
   "metadata": {},
   "source": [
    "$$\\hat{y} = w_0 + \\sum \\limits_{i=1} ^{n}w_i \\vec{x_i}$$\n",
    "where:  \n",
    "$\\hat{y}$ - predicted target  \n",
    "$w_0$ - intercept  \n",
    "$w_i$ - coefficients  \n",
    "$\\vec{x_i}$ - feature vectors"
   ]
  },
  {
   "cell_type": "markdown",
   "id": "7c2f2cad-6742-40bd-bda5-5fada431d79b",
   "metadata": {},
   "source": [
    "### Coefficient of determination"
   ]
  },
  {
   "cell_type": "markdown",
   "id": "f8d5382f-064e-4688-8f79-72389ce64c32",
   "metadata": {},
   "source": [
    "$$ 1 - \\frac{\\sum \\limits_{i=1} ^{n} (y_i - \\hat{y_i})^2}\n",
    "{\\sum \\limits_{i=1} ^{n} (y_i - y_{\\mu})^2}$$\n",
    "where:  \n",
    "$y_i$ - observed target  \n",
    "$\\hat{y_i}$ - predicted target  \n",
    "$y_{\\mu}$ - mean of vector of observed targets"
   ]
  },
  {
   "cell_type": "markdown",
   "id": "e861aaf3-e460-4265-bfba-fc7322876134",
   "metadata": {},
   "source": [
    "### Linear Regression class"
   ]
  },
  {
   "cell_type": "code",
   "execution_count": 66,
   "id": "1c891d21-9b4a-48ba-a0bf-0bdd0fff97f2",
   "metadata": {},
   "outputs": [],
   "source": [
    "import numpy as np\n",
    "class LinearRegression:\n",
    "    \n",
    "    def __init__(self, fit_intercept=True):\n",
    "        self.fit_intercept = fit_intercept\n",
    "    \n",
    "    def fit(self, X, y):\n",
    "        \n",
    "        X = X.astype(float)\n",
    "        y = y.astype(float)\n",
    "        \n",
    "        if self.fit_intercept == True:\n",
    "\n",
    "            X_average = np.mean(X, axis=0)\n",
    "            X = X - X_average\n",
    "            y_average = np.mean(y)\n",
    "            y = y - y_average\n",
    "            var1 = np.dot(y.T, X)\n",
    "            var2 = np.dot(X.T, X)\n",
    "            var3 = np.linalg.inv(var2)\n",
    "            self.coef = np.dot(var1, var3)\n",
    "            self.intercept = y_average - np.dot(X_average, self.coef.T)\n",
    "        else:\n",
    "            var1 = np.dot(y.T, X)\n",
    "            var2 = np.dot(X.T, X)\n",
    "            var3 = np.linalg.inv(var2)\n",
    "            self.coef = np.dot(var1, var3)\n",
    "            self.intercept = 0\n",
    "         \n",
    "        return self\n",
    "    \n",
    "    def predict(self, X):\n",
    "        \n",
    "        y_pred = np.dot(X, self.coef.T) + self.intercept    \n",
    "        return y_pred\n",
    "    \n",
    "    def score(self, X, y):\n",
    "        \n",
    "        y_pred = self.predict(X)\n",
    "        numerator = ((y - y_pred)**2).sum()\n",
    "        denominator = ((y - np.mean(y))**2).sum()\n",
    "        score = 1 - (numerator/denominator)\n",
    "        return score"
   ]
  },
  {
   "cell_type": "code",
   "execution_count": 67,
   "id": "b6a74eb1-f83b-4275-ac01-bf9e3f8fd22e",
   "metadata": {},
   "outputs": [
    {
     "name": "stdout",
     "output_type": "stream",
     "text": [
      "Coefficient of determination\n",
      "Training set\n",
      "--------------------------\n",
      "0.5150681322017461\n",
      "__________________________\n",
      "Coefficient of determination\n",
      "Testing set\n",
      "--------------------------\n",
      "0.5164122278603756\n"
     ]
    }
   ],
   "source": [
    "from sklearn import datasets\n",
    "from sklearn.model_selection import train_test_split\n",
    "X, y = datasets.load_diabetes(return_X_y=True)\n",
    "X_train, X_test, y_train, y_test = train_test_split(X, y, test_size=0.2, random_state=55)\n",
    "reg = LinearRegression(fit_intercept=True)\n",
    "reg.fit(X_train,y_train)\n",
    "r2 = reg.score(X_train, y_train)\n",
    "r2_test = reg.score(X_test, y_test)\n",
    "print('Coefficient of determination\\nTraining set')\n",
    "print('--------------------------')\n",
    "print(r2)\n",
    "print('__________________________')\n",
    "print('Coefficient of determination\\nTesting set')\n",
    "print('--------------------------')\n",
    "print(r2_test)"
   ]
  }
 ],
 "metadata": {
  "kernelspec": {
   "display_name": "Python 3",
   "language": "python",
   "name": "python3"
  },
  "language_info": {
   "codemirror_mode": {
    "name": "ipython",
    "version": 3
   },
   "file_extension": ".py",
   "mimetype": "text/x-python",
   "name": "python",
   "nbconvert_exporter": "python",
   "pygments_lexer": "ipython3",
   "version": "3.8.10"
  }
 },
 "nbformat": 4,
 "nbformat_minor": 5
}
