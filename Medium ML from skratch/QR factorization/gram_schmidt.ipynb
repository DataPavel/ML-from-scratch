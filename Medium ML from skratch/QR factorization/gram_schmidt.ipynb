{
 "cells": [
  {
   "cell_type": "markdown",
   "id": "dd11721e-e818-461a-a245-bfa5c4be6a0a",
   "metadata": {},
   "source": [
    "## Associated math"
   ]
  },
  {
   "cell_type": "markdown",
   "id": "d0ce68d6-2d5d-42a2-8c2a-79ee759f030d",
   "metadata": {},
   "source": [
    "$$Xw=y$$  \n",
    "where:  \n",
    "$X$ - dataset with features  \n",
    "$w$ - variables, we want to find (unknowns)  \n",
    "$y$ - target vector"
   ]
  },
  {
   "cell_type": "markdown",
   "id": "62f17150-e52c-4686-9de6-530e4f71c00d",
   "metadata": {},
   "source": [
    "$$Xw=\\hat{y}$$  \n",
    "where:  \n",
    "$X$ - dataset with features  \n",
    "$w$ - variables, we want to find (unknowns)  \n",
    "$\\hat{y}$ - vector in $Col(X)$ closest to $y$"
   ]
  },
  {
   "cell_type": "markdown",
   "id": "d3107aef-a180-4b2b-821b-492f70c8d485",
   "metadata": {},
   "source": [
    "$$w=X^T(X^TX)^{-1}y$$  \n",
    "where:  \n",
    "$X^T$ - dataset with features transpose  \n",
    "$X$ - dataset with features  \n",
    "$w$ - variables, we want to find (unknowns)  \n",
    "$y$ - target vector"
   ]
  },
  {
   "cell_type": "markdown",
   "id": "2ccb5a10-f16b-4647-9477-104393a33040",
   "metadata": {},
   "source": [
    "$$X=QR$$\n"
   ]
  },
  {
   "cell_type": "markdown",
   "id": "df329c6c-6245-4cb7-a952-1896eecb7af3",
   "metadata": {},
   "source": [
    "$$Q^TQ=I$$\n"
   ]
  },
  {
   "cell_type": "markdown",
   "id": "c7d4df0d-c5f0-45d6-bf22-6b3e50e70117",
   "metadata": {},
   "source": [
    "$$X=\\left[\\begin{array}{ccccc}\n",
    "\\mid&\\mid&\\mid&\\cdots&\\mid\\\\\n",
    "x_1&x_2&x_3&\\cdots&x_n\\\\\n",
    "\\mid&\\mid&\\mid&\\cdots&\\mid\\\\\n",
    "\\end{array}\\right]\\in \\mathbb{R}^{mxn}$$"
   ]
  },
  {
   "cell_type": "markdown",
   "id": "e4112ac1-398f-4266-97a3-a4121e1460fa",
   "metadata": {},
   "source": [
    "$$X_1=x_1$$"
   ]
  },
  {
   "cell_type": "markdown",
   "id": "3e3b91c7-39aa-4245-9d24-987fff15bd31",
   "metadata": {},
   "source": [
    "$$ X_2 = x_2 - \\frac{X_1^Tx_2}{X_1^TX_1}X_1$$"
   ]
  },
  {
   "cell_type": "markdown",
   "id": "4a986442-13c5-4382-9646-62c0aee9f150",
   "metadata": {},
   "source": [
    "$$ X_3 = x_3 - \\frac{X_1^Tx_3}{X_1^TX_1}X_1- \\frac{X_2^Tx_3}{X_2^TX_2}X_2$$"
   ]
  },
  {
   "cell_type": "markdown",
   "id": "0947eb8d-5956-43a5-86a9-981bfd51c14f",
   "metadata": {},
   "source": [
    "$$ X_n = x_n - \\frac{X_1^Tx_n}{X_1^TX_1}X_1- \\frac{X_2^Tx_n}{X_2^TX_2}X_2-\\cdots -\\frac{X_{n-1}^Tx_n}{X_{n-1}^TX_{n-1}}X_{n-1}$$"
   ]
  },
  {
   "cell_type": "markdown",
   "id": "c910253d-ffd0-42c9-aced-a3380c03fdba",
   "metadata": {},
   "source": [
    "$$q_i = \\frac{X_i}{||X_i||_2}\\quad$$  \n",
    "for $i = 1,2,3,\\cdots,n$"
   ]
  },
  {
   "cell_type": "markdown",
   "id": "3ebc0390-d7f3-4782-afe8-7c8749ecd41a",
   "metadata": {},
   "source": [
    "$$Q=\\left[\\begin{array}{ccccc}\n",
    "\\mid&\\mid&\\mid&\\cdots&\\mid\\\\\n",
    "q_1&q_2&q_3&\\cdots&q_n\\\\\n",
    "\\mid&\\mid&\\mid&\\cdots&\\mid\\\\\n",
    "\\end{array}\\right]\\in \\mathbb{R}^{mxn}$$"
   ]
  },
  {
   "cell_type": "markdown",
   "id": "671e0c1a-e382-4dee-9e0b-7cebafe08241",
   "metadata": {},
   "source": [
    "\n",
    "$$Q^TX=Q^TQR$$\n"
   ]
  },
  {
   "cell_type": "markdown",
   "id": "94a4dd7f-40cc-4d87-b5e2-946ee4a8a726",
   "metadata": {},
   "source": [
    "$$Q^TX=IR$$\n"
   ]
  },
  {
   "cell_type": "markdown",
   "id": "50b41654-3b3c-4c81-bc7d-ee0fd7453f2d",
   "metadata": {},
   "source": [
    "$$R=Q^TX$$"
   ]
  },
  {
   "cell_type": "markdown",
   "id": "cc54557b-5ba3-4f24-a480-3eb8d70a9c76",
   "metadata": {},
   "source": [
    "$$X^TXw=X^Ty$$  \n",
    "where:  \n",
    "$X$ - dataset with features  \n",
    "$w$ - variables, we want to find (unknowns)  \n",
    "$y$ - target vector"
   ]
  },
  {
   "cell_type": "markdown",
   "id": "6f7cc2e5-d838-4855-a502-8806cd2fdcd4",
   "metadata": {},
   "source": [
    "$$(QR)^TQRw=(QR)^Ty$$  "
   ]
  },
  {
   "cell_type": "markdown",
   "id": "238714e1-2d20-4875-b369-78dd84403151",
   "metadata": {},
   "source": [
    "$$R^TQ^TQRw=R^TQ^Ty$$  "
   ]
  },
  {
   "cell_type": "markdown",
   "id": "f124175b-f522-4373-bae0-e16eb9725826",
   "metadata": {},
   "source": [
    "$$Rw=Q^Ty$$  "
   ]
  },
  {
   "cell_type": "markdown",
   "id": "b96e2a0f-7473-4f2d-938c-2502e828cb45",
   "metadata": {},
   "source": [
    "$$w=R^{-1}Q^Ty$$  "
   ]
  },
  {
   "cell_type": "code",
   "execution_count": 17,
   "id": "506a1ace-4edd-49e8-a70e-9cbb5559a5b4",
   "metadata": {},
   "outputs": [],
   "source": [
    "import numpy as np"
   ]
  },
  {
   "cell_type": "code",
   "execution_count": 90,
   "id": "1e95eb0e-ef2d-4fed-904f-16cada274486",
   "metadata": {},
   "outputs": [],
   "source": [
    "matrix = np.array([2,3,7,2,0,1,7,3,5,4,8,6,6,8,6,1,6,8,5,6]).reshape(4,5).T"
   ]
  },
  {
   "cell_type": "markdown",
   "id": "0a72ca2a-e92e-44c6-a856-0e814f9579e7",
   "metadata": {},
   "source": [
    "### QR factorization function"
   ]
  },
  {
   "cell_type": "code",
   "execution_count": 73,
   "id": "9859a5c9-ff14-409c-b7e6-caa634f664f7",
   "metadata": {},
   "outputs": [],
   "source": [
    "def q_r_factorization(matrix):\n",
    "    '''\n",
    "    This function factors an input matrix into two matrices: Q and R\n",
    "    \n",
    "    INPUT:\n",
    "        matrix: array_like - mxn matrix\n",
    "    OUTPUT:\n",
    "        Q: ndarray of float - matrix with orthonormal columns of shape mxn\n",
    "        R: ndarray of float - upper triangular square matrix of shape nxn \n",
    "    '''\n",
    "    matrix = matrix.astype(float)\n",
    "    Q = np.zeros(matrix.shape)\n",
    "    A = matrix.copy()\n",
    "    for i in range(A.shape[1]):\n",
    "        Q[:,i] = A[:,0]/np.linalg.norm(A[:,0])   \n",
    "        for j in range(1, A.shape[1]):\n",
    "            A[:,j] = A[:,j] - np.dot(A[:,0], A[:,j])/np.dot(A[:,0], A[:,0])*A[:,0]    \n",
    "        A = A[:,1:]\n",
    "\n",
    "    R = np.zeros((Q.shape[1], Q.shape[1]))\n",
    "    for i in range(R.shape[0]):\n",
    "        for j in range(R.shape[0]):\n",
    "            if i>j:\n",
    "                R[i,j]=0\n",
    "            else:\n",
    "                R[i,j] = np.dot(Q[:,i].T,matrix[:,j])\n",
    "    return Q, R"
   ]
  },
  {
   "cell_type": "code",
   "execution_count": 70,
   "id": "7bf021a6-dbfc-4a47-9df1-d27fb2a9c6b2",
   "metadata": {},
   "outputs": [
    {
     "name": "stdout",
     "output_type": "stream",
     "text": [
      "Original Matrix\n",
      "-----------------------\n",
      "[[2 1 8 1]\n",
      " [3 7 6 6]\n",
      " [7 3 6 8]\n",
      " [2 5 8 5]\n",
      " [0 4 6 6]]\n",
      "\n",
      "Q - matrix with orthonormal column\n",
      "-----------------------\n",
      "[[ 0.25 -0.09  0.83 -0.36]\n",
      " [ 0.37  0.61 -0.4  -0.43]\n",
      " [ 0.86 -0.37 -0.14  0.32]\n",
      " [ 0.25  0.45  0.25 -0.12]\n",
      " [ 0.    0.54  0.27  0.75]]\n",
      "\n",
      "Upper triangular square matrix R\n",
      "-----------------------\n",
      "[[ 8.12  6.65 11.32 10.59]\n",
      " [ 0.    7.47  7.59  6.11]\n",
      " [ 0.    0.    7.08  0.25]\n",
      " [ 0.    0.    0.    3.55]]\n"
     ]
    }
   ],
   "source": [
    "matrix = np.array([2,3,7,2,0,1,7,3,5,4,8,6,6,8,6,1,6,8,5,6]).reshape(4,5).T\n",
    "Q,R = q_r_factorization(matrix)\n",
    "print('Original Matrix')\n",
    "print('-----------------------')\n",
    "print(matrix)\n",
    "print('\\nQ - matrix with orthonormal column')\n",
    "print('-----------------------')\n",
    "print(np.around(Q,2))\n",
    "print('\\nUpper triangular square matrix R')\n",
    "print('-----------------------')\n",
    "print(np.around(R,2))"
   ]
  },
  {
   "cell_type": "code",
   "execution_count": 88,
   "id": "c94ef406-7cb6-4c99-b876-7809b6f754ed",
   "metadata": {},
   "outputs": [],
   "source": [
    "import numpy as np\n",
    "class LinearRegression:\n",
    "    \n",
    "    def __init__(self, fit_intercept=True):\n",
    "        self.fit_intercept = fit_intercept\n",
    "    \n",
    "    def fit(self, X, y):\n",
    "        \n",
    "        \n",
    "        X = X.astype(float)\n",
    "        y = y.astype(float)\n",
    "        \n",
    "        if self.fit_intercept == True:\n",
    "\n",
    "            X_average = np.mean(X, axis=0)\n",
    "            X = X - X_average\n",
    "            y_average = np.mean(y)\n",
    "            y = y - y_average\n",
    "            # Here I put q_r factorization function:\n",
    "            Q,R = q_r_factorization(X)\n",
    "            R_invQ_T = np.dot(np.linalg.inv(R), Q.T)\n",
    "            self.coef = np.dot(R_invQ_T, y)\n",
    "            self.intercept = y_average - np.dot(X_average, self.coef.T)\n",
    "        else:\n",
    "            # Here I put q_r factorization function:\n",
    "            Q, R = q_r_factorization(X)\n",
    "            R_invQ_T = np.dot(np.linalg.inv(R), Q.T)\n",
    "            self.coef = np.dot(R_invQ_T, y)\n",
    "            self.intercept = 0\n",
    "         \n",
    "        return self\n",
    "    \n",
    "    def predict(self, X):\n",
    "        \n",
    "        y_pred = np.dot(X, self.coef.T) + self.intercept    \n",
    "        return y_pred\n",
    "    \n",
    "    def score(self, X, y):\n",
    "        \n",
    "        y_pred = self.predict(X)\n",
    "        numerator = ((y - y_pred)**2).sum()\n",
    "        denominator = ((y - np.mean(y))**2).sum()\n",
    "        score = 1 - (numerator/denominator)\n",
    "        return score"
   ]
  },
  {
   "cell_type": "code",
   "execution_count": 89,
   "id": "8e4e13fd-a502-413e-add2-cc1591d347bb",
   "metadata": {},
   "outputs": [
    {
     "name": "stdout",
     "output_type": "stream",
     "text": [
      "Coefficient of determination\n",
      "Training set\n",
      "--------------------------\n",
      "0.5150677275847442\n",
      "__________________________\n",
      "Coefficient of determination\n",
      "Testing set\n",
      "--------------------------\n",
      "0.5164196511816805\n"
     ]
    }
   ],
   "source": [
    "from sklearn import datasets\n",
    "from sklearn.model_selection import train_test_split\n",
    "X, y = datasets.load_diabetes(return_X_y=True)\n",
    "X_train, X_test, y_train, y_test = train_test_split(X, y, test_size=0.2, random_state=55)\n",
    "reg = LinearRegression(fit_intercept=True)\n",
    "reg.fit(X_train,y_train)\n",
    "r2 = reg.score(X_train, y_train)\n",
    "r2_test = reg.score(X_test, y_test)\n",
    "print('Coefficient of determination\\nTraining set')\n",
    "print('--------------------------')\n",
    "print(r2)\n",
    "print('__________________________')\n",
    "print('Coefficient of determination\\nTesting set')\n",
    "print('--------------------------')\n",
    "print(r2_test)"
   ]
  }
 ],
 "metadata": {
  "kernelspec": {
   "display_name": "Python 3 (ipykernel)",
   "language": "python",
   "name": "python3"
  },
  "language_info": {
   "codemirror_mode": {
    "name": "ipython",
    "version": 3
   },
   "file_extension": ".py",
   "mimetype": "text/x-python",
   "name": "python",
   "nbconvert_exporter": "python",
   "pygments_lexer": "ipython3",
   "version": "3.9.13"
  }
 },
 "nbformat": 4,
 "nbformat_minor": 5
}
